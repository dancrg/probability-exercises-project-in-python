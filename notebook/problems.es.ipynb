{
 "cells": [
  {
   "cell_type": "markdown",
   "id": "a41f3622",
   "metadata": {},
   "source": [
    "# Ejercicios de probabilidad"
   ]
  },
  {
   "cell_type": "markdown",
   "id": "a6bdbd89",
   "metadata": {},
   "source": [
    "## Ejercicio 1 \n",
    "\n",
    "Dos dados se lanzan una vez y se observa el total obtenido. Usa una simulación para encontrar la probabilidad estimada de que la puntuación sea mayor a 7 o un número par. Una simulación es una repetición del mismo experimento multiples veces para observar su comportamiento:\n",
    "\n",
    "- Ejecuta el experimento 1000 veces (lanza 2 dados 1000 veces, y suma el número de ambos dados).\n",
    "- Lleva ua cuenta de los números y las veces que la suma fue mayor a 7 o un número par.\n",
    "- Divide el número del paso 2 entre el número de iteraciones(1000)."
   ]
  },
  {
   "cell_type": "code",
   "execution_count": 1,
   "id": "8939d892",
   "metadata": {},
   "outputs": [
    {
     "name": "stdout",
     "output_type": "stream",
     "text": [
      "Cantidad de lanzamientos de dos dados, donde la suma fue mayor a 7 o un numero par: 669\n",
      "\n",
      "La probabilidad estimada es: 66.9%\n"
     ]
    }
   ],
   "source": [
    "# TODO\n",
    "\n",
    "import random\n",
    "\n",
    "lanzamientos = 1000\n",
    "counter = 0\n",
    "\n",
    "# 1) EJECUCION DEL EXPERIMIENTO 1000 VECES:\n",
    "\n",
    "for lanzamiento in range(lanzamientos):\n",
    "\n",
    "  dado1 = random.randint(1,6)\n",
    "  dado2 = random.randint(1,6)\n",
    "  suma = dado1 + dado2\n",
    "\n",
    "# 2) CUENTA DE LAS VECES DONDE SUMA > 7 O NUMERO PAR:\n",
    "\n",
    "  if suma>7 or suma%2==0:\n",
    "    counter = counter + 1\n",
    "\n",
    "# 3) CALCULO DE PROBABILIDAD:\n",
    "\n",
    "print(f'Cantidad de lanzamientos de dos dados, donde la suma fue mayor a 7 o un numero par: {counter}')\n",
    "probabilidad = (counter / lanzamientos)*100\n",
    "print(f'\\nLa probabilidad estimada es: {round(number=probabilidad, ndigits=2)}%')"
   ]
  },
  {
   "cell_type": "markdown",
   "id": "55732bca",
   "metadata": {},
   "source": [
    "## Ejercicio 2\n",
    "\n",
    "Una caja contiene 10 bolas blancas, 20 bolas rojas y 30 bolas verdes. Si tomamos 5 bolas de la caja reemplazándolas (tomando una bola, anotando el color y luego regresandola a la caja). Queremos saber la probabilidad de:\n",
    "\n",
    "1. Tomar 3 blancas y 2 rojas.\n",
    "2. Toas todas del mismo color.\n",
    "\n",
    "Ejecuta el experimento 1000 veces y calcula las probabilidades que mencionadas."
   ]
  },
  {
   "cell_type": "code",
   "execution_count": 2,
   "id": "23244d20",
   "metadata": {},
   "outputs": [
    {
     "name": "stdout",
     "output_type": "stream",
     "text": [
      "{0: 'White', 1: 'White', 2: 'White', 3: 'White', 4: 'White', 5: 'White', 6: 'White', 7: 'White', 8: 'White', 9: 'White', 10: 'Red', 11: 'Red', 12: 'Red', 13: 'Red', 14: 'Red', 15: 'Red', 16: 'Red', 17: 'Red', 18: 'Red', 19: 'Red', 20: 'Red', 21: 'Red', 22: 'Red', 23: 'Red', 24: 'Red', 25: 'Red', 26: 'Red', 27: 'Red', 28: 'Red', 29: 'Red', 30: 'Green', 31: 'Green', 32: 'Green', 33: 'Green', 34: 'Green', 35: 'Green', 36: 'Green', 37: 'Green', 38: 'Green', 39: 'Green', 40: 'Green', 41: 'Green', 42: 'Green', 43: 'Green', 44: 'Green', 45: 'Green', 46: 'Green', 47: 'Green', 48: 'Green', 49: 'Green', 50: 'Green', 51: 'Green', 52: 'Green', 53: 'Green', 54: 'Green', 55: 'Green', 56: 'Green', 57: 'Green', 58: 'Green', 59: 'Green'}\n",
      "\n",
      "La probabilidad de sacar 3 bola(s) blanca(s), 2 roja(s) y 0 verde(s) es: 0.7%.\n",
      "\n",
      "La probabilidad de sacar la totalidad de 5 bola(s) del mismo color es: 3.3%.\n"
     ]
    }
   ],
   "source": [
    "ball_box = {}\n",
    "\n",
    "# Crea la cajas con las bolas\n",
    "\n",
    "for i in range(60):\n",
    "    if i < 10:\n",
    "        ball_box[i] = \"White\"\n",
    "    elif (i > 9) and (i < 30):\n",
    "        ball_box[i] = \"Red\"\n",
    "    else:\n",
    "        ball_box[i] = \"Green\"\n",
    "\n",
    "print(ball_box)\n",
    "\n",
    "\n",
    "# TODO\n",
    "\n",
    "import random\n",
    "\n",
    "simulaciones = 1000\n",
    "\n",
    "# 1) TOMAR 3 BLANCAS Y 2 ROJAS:\n",
    "\n",
    "sacar = 5\n",
    "\n",
    "blancas = 3\n",
    "rojas = 2\n",
    "verdes = 0\n",
    "\n",
    "counter1 = 0\n",
    "counter2 = 0\n",
    "\n",
    "for simulacion in range(simulaciones):\n",
    "\n",
    "  bolas = []\n",
    "\n",
    "  for i in range(sacar):\n",
    "    bola = random.choice(ball_box)\n",
    "    bolas.append(bola)\n",
    "\n",
    "  if bolas.count('White')==blancas and bolas.count('Red')==rojas and bolas.count('Green')==verdes:\n",
    "    counter1 = counter1 + 1\n",
    "\n",
    "  elif bolas.count('White')==sacar or bolas.count('Red')==sacar or bolas.count('Green')==sacar:\n",
    "    counter2 = counter2 + 1\n",
    "\n",
    "# 2) CALCULO DE PROBABILIDADES:\n",
    "\n",
    "probabilidad_1 = (counter1 / simulaciones)*100\n",
    "probabilidad_2 = (counter2 / simulaciones)*100\n",
    "\n",
    "print(f'\\nLa probabilidad de sacar {blancas} bola(s) blanca(s), {rojas} roja(s) y {verdes} verde(s) es: {round(probabilidad_1, ndigits=3)}%.')\n",
    "print(f'\\nLa probabilidad de sacar la totalidad de {sacar} bola(s) del mismo color es: {round(probabilidad_2, ndigits=3)}%.')"
   ]
  }
 ],
 "metadata": {
  "kernelspec": {
   "display_name": "Python 3",
   "language": "python",
   "name": "python3"
  },
  "language_info": {
   "codemirror_mode": {
    "name": "ipython",
    "version": 3
   },
   "file_extension": ".py",
   "mimetype": "text/x-python",
   "name": "python",
   "nbconvert_exporter": "python",
   "pygments_lexer": "ipython3",
   "version": "3.11.4"
  }
 },
 "nbformat": 4,
 "nbformat_minor": 5
}
